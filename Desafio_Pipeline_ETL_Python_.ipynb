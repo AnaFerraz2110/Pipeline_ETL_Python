{
  "nbformat": 4,
  "nbformat_minor": 0,
  "metadata": {
    "colab": {
      "provenance": [],
      "authorship_tag": "ABX9TyML8Dn6bbsCnE8TjdGyZvIe",
      "include_colab_link": true
    },
    "kernelspec": {
      "name": "python3",
      "display_name": "Python 3"
    },
    "language_info": {
      "name": "python"
    }
  },
  "cells": [
    {
      "cell_type": "markdown",
      "metadata": {
        "id": "view-in-github",
        "colab_type": "text"
      },
      "source": [
        "<a href=\"https://colab.research.google.com/github/AnaFerraz2110/Pipeline_ETL_Python/blob/main/Desafio_Pipeline_ETL_Python_.ipynb\" target=\"_parent\"><img src=\"https://colab.research.google.com/assets/colab-badge.svg\" alt=\"Open In Colab\"/></a>"
      ]
    },
    {
      "cell_type": "markdown",
      "source": [
        "**Contexto proposto:** Usar IA para criar programas de Adesão a medicamentos personalizados. Isso envolveria a criação de mensagens de lembrete de medicamentos e incentivos personalizados para melhorar a adesão do paciente."
      ],
      "metadata": {
        "id": "-HWzBOAC93qy"
      }
    },
    {
      "cell_type": "markdown",
      "source": [
        "**PROCESSO DE EXTRAÇÃO DOS DADOS**"
      ],
      "metadata": {
        "id": "g99PERcRRUU1"
      }
    },
    {
      "cell_type": "code",
      "source": [
        "import pandas as pd\n",
        "df = pd.read_csv('update.csv')\n",
        "# Exibir todas as informações do arquivo CSV em formato de tabela\n",
        "print(tabulate(df, headers='keys', tablefmt='psql'))"
      ],
      "metadata": {
        "colab": {
          "base_uri": "https://localhost:8080/"
        },
        "id": "C7gu93b1LMQ6",
        "outputId": "89e78979-2627-42e2-8a0e-16b4f158d9f5"
      },
      "execution_count": null,
      "outputs": [
        {
          "output_type": "stream",
          "name": "stdout",
          "text": [
            "+----+------+------------------------+----------------------------------------------+----------------------------+---------------------+------------------------------------+-----------------------------+\n",
            "|    |   Id | Nome                   | Medicacao_adquirida_ultima_data_prescricao   | Medicacao_nome_medicacao   | Medicacao_Dosagem   | Medicacao_Proxima_data_medicacao   |   Medicacao_Doses_restantes |\n",
            "|----+------+------------------------+----------------------------------------------+----------------------------+---------------------+------------------------------------+-----------------------------|\n",
            "|  0 |    1 | Roberta Souza          | 2023-09-25                                   | Amoxicilina                | 10 mg               | 2023-10-01                         |                          20 |\n",
            "|  1 |    2 | Clodoaldo Coelho       | 2023-09-24                                   | Metformina                 | 5 mg                | 2023-09-30                         |                          15 |\n",
            "|  2 |    3 | Maria Rita Luiz        | 2023-09-23                                   | Sertralina                 | 15 mg               | 2023-09-29                         |                          30 |\n",
            "|  3 |    4 | Lica Mariano Reis      | 2023-09-26                                   | Losartana                  | 20 mg               | 2023-10-02                         |                          25 |\n",
            "|  4 |    5 | Jose Roberto Guimaraes | 2023-10-29                                   | Omeprazol                  | 25 mg               | 2023-10-05                         |                          30 |\n",
            "+----+------+------------------------+----------------------------------------------+----------------------------+---------------------+------------------------------------+-----------------------------+\n"
          ]
        }
      ]
    },
    {
      "cell_type": "markdown",
      "source": [
        "**INSTALAÇÃO DO OPENAI (INTELIGÊNCIA ARTIFICIAL)**"
      ],
      "metadata": {
        "id": "tCIVKF6XRdCP"
      }
    },
    {
      "cell_type": "code",
      "source": [
        "!pip install openai"
      ],
      "metadata": {
        "colab": {
          "base_uri": "https://localhost:8080/"
        },
        "id": "n2rxwMZOSDux",
        "outputId": "808f2dfe-1cba-4c79-cb29-e7e9a7d0cad7"
      },
      "execution_count": null,
      "outputs": [
        {
          "output_type": "stream",
          "name": "stdout",
          "text": [
            "Requirement already satisfied: openai in /usr/local/lib/python3.10/dist-packages (0.28.0)\n",
            "Requirement already satisfied: requests>=2.20 in /usr/local/lib/python3.10/dist-packages (from openai) (2.31.0)\n",
            "Requirement already satisfied: tqdm in /usr/local/lib/python3.10/dist-packages (from openai) (4.66.1)\n",
            "Requirement already satisfied: aiohttp in /usr/local/lib/python3.10/dist-packages (from openai) (3.8.5)\n",
            "Requirement already satisfied: charset-normalizer<4,>=2 in /usr/local/lib/python3.10/dist-packages (from requests>=2.20->openai) (3.2.0)\n",
            "Requirement already satisfied: idna<4,>=2.5 in /usr/local/lib/python3.10/dist-packages (from requests>=2.20->openai) (3.4)\n",
            "Requirement already satisfied: urllib3<3,>=1.21.1 in /usr/local/lib/python3.10/dist-packages (from requests>=2.20->openai) (2.0.4)\n",
            "Requirement already satisfied: certifi>=2017.4.17 in /usr/local/lib/python3.10/dist-packages (from requests>=2.20->openai) (2023.7.22)\n",
            "Requirement already satisfied: attrs>=17.3.0 in /usr/local/lib/python3.10/dist-packages (from aiohttp->openai) (23.1.0)\n",
            "Requirement already satisfied: multidict<7.0,>=4.5 in /usr/local/lib/python3.10/dist-packages (from aiohttp->openai) (6.0.4)\n",
            "Requirement already satisfied: async-timeout<5.0,>=4.0.0a3 in /usr/local/lib/python3.10/dist-packages (from aiohttp->openai) (4.0.3)\n",
            "Requirement already satisfied: yarl<2.0,>=1.0 in /usr/local/lib/python3.10/dist-packages (from aiohttp->openai) (1.9.2)\n",
            "Requirement already satisfied: frozenlist>=1.1.1 in /usr/local/lib/python3.10/dist-packages (from aiohttp->openai) (1.4.0)\n",
            "Requirement already satisfied: aiosignal>=1.1.2 in /usr/local/lib/python3.10/dist-packages (from aiohttp->openai) (1.3.1)\n"
          ]
        }
      ]
    },
    {
      "cell_type": "markdown",
      "source": [
        "**PROCESSO DE TRANSFORMAÇÃO**"
      ],
      "metadata": {
        "id": "CRpwDCgIR9V8"
      }
    },
    {
      "cell_type": "code",
      "source": [
        "import openai\n",
        "import csv\n",
        "\n",
        "# Configurar a chave de API do OpenAI\n",
        "openai_api_key = 'CHAVE'\n",
        "openai.api_key = openai_api_key\n",
        "\n",
        "# Função para gerar notícias para um usuário\n",
        "def generate_ai_news(user):\n",
        "    completion = openai.Completion.create(\n",
        "        engine=\"text-davinci-003\",  # Use o modelo text-davinci-003\n",
        "        prompt=f\"Crie uma mensagem para {user['Nome']} manter a rotina saudável incluindo tomar remédios nos horários certos e não esquecer de comprá-los quando acabarem. (máximo de 100 caracteres)\",\n",
        "        max_tokens=50  # Defina o número máximo de tokens para a resposta\n",
        "    )\n",
        "    news = completion.choices[0].text.strip('\\\"')\n",
        "    return news\n",
        "\n",
        "# Lê os dados do arquivo CSV\n",
        "users = []\n",
        "\n",
        "with open('update.csv', newline='', encoding='utf-8') as csvfile:\n",
        "    reader = csv.DictReader(csvfile)\n",
        "    for row in reader:\n",
        "        users.append(row)\n",
        "\n",
        "# Itera sobre a lista de usuários e gera notícias para cada um deles\n",
        "for user in users:\n",
        "    news = generate_ai_news(user)\n",
        "    print(news)\n",
        "\n"
      ],
      "metadata": {
        "id": "h9fTa2S5TYs6"
      },
      "execution_count": null,
      "outputs": []
    },
    {
      "cell_type": "markdown",
      "source": [
        "**PROCESSO DE CARREGAMENTO**"
      ],
      "metadata": {
        "id": "0OhnJfs4STIG"
      }
    },
    {
      "cell_type": "code",
      "source": [
        "# Lê os dados do arquivo CSV 'update.csv' e cria um novo arquivo CSV 'output.csv' com a coluna \"lembrete\"\n",
        "with open('update.csv', newline='', encoding='utf-8') as csvfile:\n",
        "    reader = csv.DictReader(csvfile)\n",
        "\n",
        "    # Lista para armazenar os dados atualizados\n",
        "    updated_users = []\n",
        "\n",
        "    for row in reader:\n",
        "        # Gere uma mensagem para o usuário\n",
        "        news = generate_ai_news(row)\n",
        "        # Adicione a mensagem gerada como uma coluna \"lembrete\"\n",
        "        row['lembrete'] = news\n",
        "        updated_users.append(row)\n",
        "\n",
        "# Escreve os dados atualizados no novo arquivo CSV 'output.csv'\n",
        "fieldnames = updated_users[0].keys()\n",
        "\n",
        "with open('output.csv', 'w', newline='', encoding='utf-8') as csvfile:\n",
        "    writer = csv.DictWriter(csvfile, fieldnames=fieldnames)\n",
        "    writer.writeheader()\n",
        "    for row in updated_users:\n",
        "        writer.writerow(row)\n",
        "\n",
        "print(\"Novo arquivo CSV 'output.csv' criado com sucesso!\")"
      ],
      "metadata": {
        "id": "D3-DiV3VScx4"
      },
      "execution_count": null,
      "outputs": []
    }
  ]
}